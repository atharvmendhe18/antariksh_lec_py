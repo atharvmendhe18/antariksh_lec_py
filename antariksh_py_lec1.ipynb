{
  "cells": [
    {
      "cell_type": "markdown",
      "metadata": {
        "id": "view-in-github",
        "colab_type": "text"
      },
      "source": [
        "<a href=\"https://colab.research.google.com/github/atharvmendhe18/antariksh_lec_py/blob/main/antariksh_py_lec1.ipynb\" target=\"_parent\"><img src=\"https://colab.research.google.com/assets/colab-badge.svg\" alt=\"Open In Colab\"/></a>"
      ]
    },
    {
      "cell_type": "code",
      "execution_count": null,
      "metadata": {
        "id": "VOmDGwtPHfXs",
        "outputId": "25aa329d-da4f-42f1-ce16-63bb79964388"
      },
      "outputs": [
        {
          "data": {
            "text/plain": [
              "(7, -3, 2.0, 8, 8, 1, 1)"
            ]
          },
          "execution_count": 12,
          "metadata": {},
          "output_type": "execute_result"
        }
      ],
      "source": [
        "3+4, 4-7, 6/3, 4*2, 2**3, 4//3, 5%2"
      ]
    },
    {
      "cell_type": "code",
      "execution_count": null,
      "metadata": {
        "id": "TyHJaMoiHfXx",
        "outputId": "16a12252-6acc-415b-b25c-852cd671ead3"
      },
      "outputs": [
        {
          "name": "stdout",
          "output_type": "stream",
          "text": [
            "7.0\n",
            "12.0\n",
            "13.892443989449804\n"
          ]
        }
      ],
      "source": [
        "r = 7+12j\n",
        "print(r.real)\n",
        "print(r.imag)\n",
        "print(abs(r))"
      ]
    },
    {
      "cell_type": "code",
      "execution_count": 2,
      "metadata": {
        "id": "eMVcotCxHfXx",
        "outputId": "48167b9f-eeb1-46bc-a1d8-c9c4d21f7679",
        "colab": {
          "base_uri": "https://localhost:8080/"
        }
      },
      "outputs": [
        {
          "output_type": "stream",
          "name": "stdout",
          "text": [
            "<class 'float'>\n"
          ]
        },
        {
          "output_type": "execute_result",
          "data": {
            "text/plain": [
              "1"
            ]
          },
          "metadata": {},
          "execution_count": 2
        }
      ],
      "source": [
        "f = 1.2344\n",
        "print(type(f))\n",
        "int(f)"
      ]
    },
    {
      "cell_type": "code",
      "execution_count": 3,
      "metadata": {
        "id": "jmWhvKcFHfXy",
        "outputId": "cc2f6516-da29-4b4c-f3db-3986ee8c6a9e",
        "colab": {
          "base_uri": "https://localhost:8080/"
        }
      },
      "outputs": [
        {
          "output_type": "stream",
          "name": "stdout",
          "text": [
            "float value is 1.2344\n",
            "string value is 1.2344\n",
            "hello\\\\\n",
            "the vaule of f: 1.23\n"
          ]
        }
      ],
      "source": [
        "s = 'string'\n",
        "print('float value is {}'.format(f))\n",
        "print(f'string value is {f}')\n",
        "print(r'hello\\\\')\n",
        "#can aslo print upto a specified decimal place using\n",
        "print(\"the vaule of f: %.2f\" % f)"
      ]
    },
    {
      "cell_type": "code",
      "execution_count": null,
      "metadata": {
        "id": "Ju_kO-kSHfXz",
        "outputId": "b6ebe8b8-f8f2-4ffe-a74b-20fe15da4141"
      },
      "outputs": [
        {
          "name": "stdout",
          "output_type": "stream",
          "text": [
            "string1.2344\n"
          ]
        }
      ],
      "source": [
        "print(s+str(f))"
      ]
    },
    {
      "cell_type": "code",
      "execution_count": null,
      "metadata": {
        "id": "F3OgEIqIHfXz",
        "outputId": "28fececa-172e-47a6-a84d-5989f93c1cec"
      },
      "outputs": [
        {
          "data": {
            "text/plain": [
              "'my name is atharva'"
            ]
          },
          "execution_count": 40,
          "metadata": {},
          "output_type": "execute_result"
        }
      ],
      "source": [
        "sen = 'my name is chaitya'\n",
        "sen.replace('chaitya', 'atharva')"
      ]
    },
    {
      "cell_type": "code",
      "execution_count": null,
      "metadata": {
        "id": "B_3qH7DjHfXz",
        "outputId": "6771f6e4-2f97-48cb-af63-1039e519004d"
      },
      "outputs": [
        {
          "data": {
            "text/plain": [
              "[2, 3, 4]"
            ]
          },
          "execution_count": 73,
          "metadata": {},
          "output_type": "execute_result"
        }
      ],
      "source": [
        "ls = [1,2,3,4,'5']\n",
        "ls.append(6)\n",
        "ls.remove('5')\n",
        "ls[-4:-1]"
      ]
    },
    {
      "cell_type": "code",
      "execution_count": null,
      "metadata": {
        "id": "UcGvABhsHfX0",
        "outputId": "234aa362-1db0-4cc4-be4a-b7d22718be13"
      },
      "outputs": [
        {
          "data": {
            "text/plain": [
              "[1, 2, 3, 4, 6, 7, 8, 9]"
            ]
          },
          "execution_count": 74,
          "metadata": {},
          "output_type": "execute_result"
        }
      ],
      "source": [
        "ls2 = [9,8,7]\n",
        "ls.extend(ls2)\n",
        "ls.sort()\n",
        "ls"
      ]
    },
    {
      "cell_type": "code",
      "execution_count": null,
      "metadata": {
        "id": "eKBDfWYAHfX0",
        "outputId": "2b961be9-ee9f-4c91-e00c-8b251b77b51e"
      },
      "outputs": [
        {
          "data": {
            "text/plain": [
              "[1, 2, 3, 5, 6, 7, 8, 9]"
            ]
          },
          "execution_count": 77,
          "metadata": {},
          "output_type": "execute_result"
        }
      ],
      "source": [
        "ls[3]=5\n",
        "ls"
      ]
    },
    {
      "cell_type": "code",
      "execution_count": null,
      "metadata": {
        "id": "Sv7VN5n5HfX1",
        "outputId": "b54d70e2-a3d5-4b06-fd09-94d53f904f2f"
      },
      "outputs": [
        {
          "data": {
            "text/plain": [
              "[[1, 2, 3], [4, 5, 6], [7, 8, 9]]"
            ]
          },
          "execution_count": 75,
          "metadata": {},
          "output_type": "execute_result"
        }
      ],
      "source": [
        "list1=[1,2,3]\n",
        "list2=[4,5,6]\n",
        "list3=[7,8,9]\n",
        "ls_final=[list1,list2,list3]\n",
        "ls_final"
      ]
    },
    {
      "cell_type": "code",
      "execution_count": null,
      "metadata": {
        "id": "G_0bi2CqHfX1",
        "outputId": "56b22727-71f8-4938-9022-ae30b31039fb"
      },
      "outputs": [
        {
          "data": {
            "text/plain": [
              "['mango', 'apple', 'banana', 'orange']"
            ]
          },
          "execution_count": 84,
          "metadata": {},
          "output_type": "execute_result"
        }
      ],
      "source": [
        "fruits = ['mango', 'apple', 'banana', 'kiwi', 'orange']\n",
        "new = [x for x in fruits if 'a' in x]\n",
        "# for v in fruits:\n",
        "#     if 'a' in v:\n",
        "#         new.append(v)\n",
        "new"
      ]
    },
    {
      "cell_type": "code",
      "execution_count": null,
      "metadata": {
        "id": "OJz3K-AEHfX1",
        "outputId": "fa4be9a3-c728-40cb-87c1-7458b289cb7e"
      },
      "outputs": [
        {
          "data": {
            "text/plain": [
              "(1, 2, '3')"
            ]
          },
          "execution_count": 118,
          "metadata": {},
          "output_type": "execute_result"
        }
      ],
      "source": [
        "tup = (1,2,'3')\n",
        "tup"
      ]
    },
    {
      "cell_type": "code",
      "execution_count": null,
      "metadata": {
        "id": "ob_xbO5ZHfX2",
        "outputId": "744de8bd-631a-4efe-a999-f31ebf0fc8cd"
      },
      "outputs": [
        {
          "data": {
            "text/plain": [
              "{'GUI': 'Rihansh',\n",
              " 'AI': [{'Lefty': 'Ritesh'}, {'Righty': 'Atharva'}],\n",
              " 'ROS': ['Harshvi', 'Urav']}"
            ]
          },
          "execution_count": 100,
          "metadata": {},
          "output_type": "execute_result"
        }
      ],
      "source": [
        "ant = {'GUI': 'Kreena', 'AI': [{'Lefty': 'Ritesh'}, {'Righty':'Atharva'}], 'ROS': ['Harshvi', 'Urav']}\n",
        "ant"
      ]
    },
    {
      "cell_type": "code",
      "execution_count": null,
      "metadata": {
        "id": "fy11g_YMHfX2",
        "outputId": "0d7dface-28c7-49fc-bac8-d9b7367c5e52"
      },
      "outputs": [
        {
          "name": "stdout",
          "output_type": "stream",
          "text": [
            "dict_keys(['GUI', 'AI', 'ROS'])\n",
            "dict_values(['Rihansh', [{'Lefty': 'Ritesh'}, {'Righty': 'Atharva'}], ['Harshvi', 'Urav']])\n"
          ]
        }
      ],
      "source": [
        "print(ant.keys())\n",
        "print(ant.values())"
      ]
    },
    {
      "cell_type": "code",
      "execution_count": null,
      "metadata": {
        "id": "utkc0018HfX2",
        "outputId": "e846e1d6-448c-41af-d7fa-2ccd6652dd45"
      },
      "outputs": [
        {
          "data": {
            "text/plain": [
              "'Ritesh'"
            ]
          },
          "execution_count": 99,
          "metadata": {},
          "output_type": "execute_result"
        }
      ],
      "source": [
        "ant['AI'][0]['Lefty']"
      ]
    },
    {
      "cell_type": "code",
      "execution_count": null,
      "metadata": {
        "id": "2yd092gdHfX3",
        "outputId": "44e0dc4e-86ff-4207-bd9a-94a90217525d"
      },
      "outputs": [
        {
          "data": {
            "text/plain": [
              "{'IT': 'Atharv', 'IT1': 'Rushabh'}"
            ]
          },
          "execution_count": 106,
          "metadata": {},
          "output_type": "execute_result"
        }
      ],
      "source": [
        "ant1 = {}\n",
        "ant1['IT'] = 'Atharv'\n",
        "ant1['IT1'] = 'Rushabh'\n",
        "ant1"
      ]
    },
    {
      "cell_type": "code",
      "execution_count": null,
      "metadata": {
        "id": "3SZVG1uXHfX3",
        "outputId": "7e950c18-afc7-485d-e67a-f5bcb47dba18"
      },
      "outputs": [
        {
          "data": {
            "text/plain": [
              "{'IT': 'Atharv', 'IT1': 'Rushabh', 'Comps': 'Aditi', 'IT3': 'Suraj'}"
            ]
          },
          "execution_count": 104,
          "metadata": {},
          "output_type": "execute_result"
        }
      ],
      "source": [
        "{'IT': 'Atharv', 'IT1': 'Rushabh', 'Comps': 'Aditi', 'IT3': 'Suraj'}"
      ]
    },
    {
      "cell_type": "code",
      "execution_count": null,
      "metadata": {
        "id": "S-iHxdKFHfX3",
        "outputId": "53a1f837-2f57-4550-82b8-ff50548c6ed9"
      },
      "outputs": [
        {
          "name": "stdout",
          "output_type": "stream",
          "text": [
            "IT\n",
            "Atharv\n",
            "IT1\n",
            "Rushabh\n"
          ]
        }
      ],
      "source": [
        "for key,value in ant1.items():\n",
        "    print(key)\n",
        "    print(value)"
      ]
    },
    {
      "cell_type": "code",
      "execution_count": null,
      "metadata": {
        "id": "yQP0pqu_HfX4"
      },
      "outputs": [],
      "source": [
        "ls_di = [{'IT': 'Atharv'}, {'IT1': 'Rushabh'}, {'Comps': 'Aditi'}, {'IT3': 'Suraj'}]\n"
      ]
    },
    {
      "cell_type": "code",
      "execution_count": null,
      "metadata": {
        "id": "h7wIR_jBHfX4",
        "outputId": "4d815634-6170-40d6-b234-3581936ef901"
      },
      "outputs": [
        {
          "data": {
            "text/plain": [
              "'Aditi'"
            ]
          },
          "execution_count": 120,
          "metadata": {},
          "output_type": "execute_result"
        }
      ],
      "source": [
        "ls_di[2]['Comps']"
      ]
    },
    {
      "cell_type": "code",
      "execution_count": null,
      "metadata": {
        "id": "snFX-8O6HfX4",
        "outputId": "1b9dcb63-9e36-443f-9c3a-9b061c1499d0"
      },
      "outputs": [
        {
          "data": {
            "text/plain": [
              "{1, 2, 3, 4, 5, 6, 7}"
            ]
          },
          "execution_count": 127,
          "metadata": {},
          "output_type": "execute_result"
        }
      ],
      "source": [
        "x = {1,2,3,4,5,1,3,4,6}\n",
        "x.add(7)\n",
        "x"
      ]
    },
    {
      "cell_type": "code",
      "source": [
        "list_inside_dict = {[{},{},{}],[{},[]],[],[],[]}"
      ],
      "metadata": {
        "id": "yy-RfpWMLbff"
      },
      "execution_count": null,
      "outputs": []
    },
    {
      "cell_type": "code",
      "source": [],
      "metadata": {
        "id": "N04m8rBiLbk-"
      },
      "execution_count": null,
      "outputs": []
    }
  ],
  "metadata": {
    "kernelspec": {
      "display_name": "Python 3",
      "language": "python",
      "name": "python3"
    },
    "language_info": {
      "codemirror_mode": {
        "name": "ipython",
        "version": 3
      },
      "file_extension": ".py",
      "mimetype": "text/x-python",
      "name": "python",
      "nbconvert_exporter": "python",
      "pygments_lexer": "ipython3",
      "version": "3.10.5"
    },
    "orig_nbformat": 4,
    "colab": {
      "provenance": [],
      "include_colab_link": true
    }
  },
  "nbformat": 4,
  "nbformat_minor": 0
}