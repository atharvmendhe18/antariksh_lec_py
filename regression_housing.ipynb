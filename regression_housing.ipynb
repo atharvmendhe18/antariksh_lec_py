{
  "nbformat": 4,
  "nbformat_minor": 0,
  "metadata": {
    "colab": {
      "provenance": [],
      "authorship_tag": "ABX9TyNfVWA9UnfUsBTB3xpBZyGl",
      "include_colab_link": true
    },
    "kernelspec": {
      "name": "python3",
      "display_name": "Python 3"
    },
    "language_info": {
      "name": "python"
    }
  },
  "cells": [
    {
      "cell_type": "markdown",
      "metadata": {
        "id": "view-in-github",
        "colab_type": "text"
      },
      "source": [
        "<a href=\"https://colab.research.google.com/github/atharvmendhe18/antariksh_lec_py/blob/main/regression_housing.ipynb\" target=\"_parent\"><img src=\"https://colab.research.google.com/assets/colab-badge.svg\" alt=\"Open In Colab\"/></a>"
      ]
    },
    {
      "cell_type": "code",
      "execution_count": null,
      "metadata": {
        "id": "5PVz9048x1G1"
      },
      "outputs": [],
      "source": [
        "from pandas import read_csv\n",
        "from sklearn.model_selection import train_test_split\n",
        "from sklearn.preprocessing import LabelEncoder\n",
        "import tensorflow as tf\n",
        "import matplotlib.pyplot as plt\n",
        "import numpy as np\n",
        "from keras.layers.attention.multi_head_attention import activation\n",
        "\n",
        "df = read_csv('https://raw.githubusercontent.com/jbrownlee/Datasets/master/housing.csv')\n",
        "\n",
        "X,y = df.values[:, :-1], df.values[:, -1]\n",
        "\n",
        "X_train,X_test, y_train,y_test  = train_test_split(X,y, test_size=0.33)"
      ]
    },
    {
      "cell_type": "code",
      "source": [
        "print(X_train.shape, y_train.shape, X_test.shape, y_test.shape)\n",
        "n_features = X_train.shape[1]"
      ],
      "metadata": {
        "colab": {
          "base_uri": "https://localhost:8080/"
        },
        "id": "b648Vb_uSJcy",
        "outputId": "1875b778-69b7-4a03-950c-6161ba7a1a69"
      },
      "execution_count": null,
      "outputs": [
        {
          "output_type": "stream",
          "name": "stdout",
          "text": [
            "(338, 13) (338,) (167, 13) (167,)\n"
          ]
        }
      ]
    },
    {
      "cell_type": "code",
      "source": [
        "model = tf.keras.models.Sequential()\n",
        "model.add(tf.keras.layers.Dense(10, activation='relu', input_shape=(n_features,), kernel_initializer='he_normal'))\n",
        "model.add(tf.keras.layers.Dense(8,activation='relu', kernel_initializer='he_normal'))\n",
        "model.add(tf.keras.layers.Dense(1))\n",
        "#since it is a regression model not classification we cannot calculate classifaction accuracy\n",
        "model.compile(\n",
        "    optimizer='adam',\n",
        "    loss = 'mse'\n",
        ")\n",
        "\n",
        "history = model.fit(X_train, y_train, validation_data=(X_test, y_test), batch_size = 32, epochs = 150, verbose = 0)\n"
      ],
      "metadata": {
        "id": "3S8mbcVQSWXb"
      },
      "execution_count": null,
      "outputs": []
    },
    {
      "cell_type": "code",
      "source": [
        "#testing the model\n",
        "import math\n",
        "error = model.evaluate(X_test, y_test, verbose=0)\n",
        "print('MSE: %.3f, RMSE: %.3f' % (error, math.sqrt(error)))\n",
        "row = [0.00632,18.00,2.310,0,0.5380,6.5750,65.20,4.0900,1,296.0,15.30,396.90,4.98]\n",
        "yhat = model.predict([row])\n",
        "print('Predicted: %.3f' % yhat)"
      ],
      "metadata": {
        "colab": {
          "base_uri": "https://localhost:8080/"
        },
        "id": "zDvN2tu3aqEe",
        "outputId": "ae7f5c28-a9c0-4e77-f0a4-9c9167852d6d"
      },
      "execution_count": null,
      "outputs": [
        {
          "output_type": "stream",
          "name": "stdout",
          "text": [
            "MSE: 59.428, RMSE: 7.709\n",
            "1/1 [==============================] - 0s 108ms/step\n",
            "Predicted: 28.466\n"
          ]
        }
      ]
    }
  ]
}